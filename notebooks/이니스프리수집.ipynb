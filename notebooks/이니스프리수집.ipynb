{
 "cells": [
  {
   "cell_type": "code",
   "execution_count": 1,
   "metadata": {},
   "outputs": [],
   "source": [
    "import requests\n",
    "from lxml import html"
   ]
  },
  {
   "cell_type": "code",
   "execution_count": 27,
   "metadata": {},
   "outputs": [],
   "source": [
    "# 스킨 제품 리스트업\n",
    "url = 'https://www.innisfree.com/kr/ko/ProductList/skincare/skin/Product.do?catCd01=UA&catCd02=UAAA'"
   ]
  },
  {
   "cell_type": "code",
   "execution_count": 28,
   "metadata": {},
   "outputs": [
    {
     "data": {
      "text/plain": [
       "<Response [200]>"
      ]
     },
     "execution_count": 28,
     "metadata": {},
     "output_type": "execute_result"
    }
   ],
   "source": [
    "res = requests.get(url)\n",
    "res"
   ]
  },
  {
   "cell_type": "code",
   "execution_count": 30,
   "metadata": {},
   "outputs": [
    {
     "data": {
      "text/plain": [
       "['29816',\n",
       " '30636',\n",
       " '24588',\n",
       " '4383',\n",
       " '30116',\n",
       " '20424',\n",
       " '28080',\n",
       " '29697',\n",
       " '15598',\n",
       " '17076',\n",
       " '5421',\n",
       " '20856',\n",
       " '18219',\n",
       " '25796',\n",
       " '23956',\n",
       " '12301',\n",
       " '21858',\n",
       " '20342',\n",
       " '20676',\n",
       " '10897']"
      ]
     },
     "execution_count": 30,
     "metadata": {},
     "output_type": "execute_result"
    }
   ],
   "source": [
    "root = html.fromstring(res.text)\n",
    "item_number = root.xpath('//span[@class=\"stikerWrap\"]/@data-stikerwrap')\n",
    "item_number"
   ]
  },
  {
   "cell_type": "markdown",
   "metadata": {},
   "source": [
    "### 위의 item_number 로 리스트를 가져옴"
   ]
  },
  {
   "cell_type": "code",
   "execution_count": 39,
   "metadata": {},
   "outputs": [
    {
     "data": {
      "text/plain": [
       "<Response [200]>"
      ]
     },
     "execution_count": 39,
     "metadata": {},
     "output_type": "execute_result"
    }
   ],
   "source": [
    "url = 'https://www.innisfree.com/kr/ko/ProductReviewListSubRenew.do'\n",
    "params = {\n",
    "    'prdSeq': item_number[-1], # 제품 번호\n",
    "    'pageNo': 1,\n",
    "    'sort': 1 # 최신순 고정\n",
    "}\n",
    "res = requests.get(url, params=params)\n",
    "res"
   ]
  },
  {
   "cell_type": "code",
   "execution_count": 40,
   "metadata": {},
   "outputs": [
    {
     "data": {
      "text/plain": [
       "'\\r\\n\\r\\n\\r\\n\\r\\n\\r\\n  \\r\\n\\r\\n\\r\\n\\r\\n'"
      ]
     },
     "execution_count": 40,
     "metadata": {},
     "output_type": "execute_result"
    }
   ],
   "source": [
    "res.text[:20]"
   ]
  },
  {
   "cell_type": "code",
   "execution_count": 41,
   "metadata": {},
   "outputs": [],
   "source": [
    "root = html.fromstring(res.text)"
   ]
  },
  {
   "cell_type": "code",
   "execution_count": 42,
   "metadata": {},
   "outputs": [
    {
     "data": {
      "text/plain": [
       "['꽃송이 제품이 다 좋은것 같네요\\r\\n스킨도 잘 스며들고 촉촉하고 좋습니다',\n",
       " '방판 제품만 쓰다가 이니스프리 사욤해 보았는데 좋네요. 앞으로도  쭉 이용한 것 같습니다.',\n",
       " '좋아요!\\r\\n\\r\\n펌프식으로  바꿈 좋겠다는  사용하면서 늘든 생각입니다^^',\n",
       " '남자친구가 겨울만 되면\\r\\n꽃송이버섯라인만 사용해요\\r\\n스킨 로션만 발라도 촉촉하고\\r\\n보습력이 좋다고 하더라구요\\r\\n남자들은 로션까지만 발라도 건조함 없이\\r\\n괜찮더라구요~쫀득한 제형에\\r\\n탄력관리도 되서 아주 좋아요',\n",
       " '최고에요 앞으로 쭉 추천할만합니다 최고',\n",
       " '어머니가 피부가 예민하셔서 아무거나 사용할수가 없는데 이니스프리제품은 잘 사용하고 계십니다',\n",
       " '겨울철 바르기 좋아용  촉촉하구 향도 괜찮아요',\n",
       " '촉촉하니 겨울에 사용하는 스킨으로 좋아요',\n",
       " '제 화장대를 장악하고 있는 꽃송이버섯 바이탈 라인이네요\\r\\n항상 하는 얘기지만 적절한 수분감과 유분감의 조화가\\r\\n유수분 모두 부족한 악건성인 제 피부에 잘 맞구요\\r\\n발림성까지 좋아서 스킨로션 진짜 여러겹 바르는데\\r\\n레이어링 해서 발라도 부담스럽지 않아 더 맘에 들어요\\r\\n건조한 겨울 촉촉한 피부를 워해 추천합니당',\n",
       " '유분감이 너무 많아서  흡수가  좀 더디게  되는것  같아요']"
      ]
     },
     "execution_count": 42,
     "metadata": {},
     "output_type": "execute_result"
    }
   ],
   "source": [
    "[i.strip() for i in root.xpath('//div[@class=\"reviewContent\"]/p/text()')]"
   ]
  },
  {
   "cell_type": "code",
   "execution_count": null,
   "metadata": {},
   "outputs": [],
   "source": []
  },
  {
   "cell_type": "code",
   "execution_count": null,
   "metadata": {},
   "outputs": [],
   "source": []
  }
 ],
 "metadata": {
  "kernelspec": {
   "display_name": "Python 3",
   "language": "python",
   "name": "python3"
  },
  "language_info": {
   "codemirror_mode": {
    "name": "ipython",
    "version": 3
   },
   "file_extension": ".py",
   "mimetype": "text/x-python",
   "name": "python",
   "nbconvert_exporter": "python",
   "pygments_lexer": "ipython3",
   "version": "3.7.6"
  }
 },
 "nbformat": 4,
 "nbformat_minor": 4
}
