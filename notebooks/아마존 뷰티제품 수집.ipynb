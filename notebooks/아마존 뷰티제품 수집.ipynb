{
 "cells": [
  {
   "cell_type": "code",
   "execution_count": 1,
   "metadata": {},
   "outputs": [],
   "source": [
    "import requests\n",
    "from lxml import html"
   ]
  },
  {
   "cell_type": "markdown",
   "metadata": {},
   "source": [
    "#### 제품이라고 검색한다"
   ]
  },
  {
   "cell_type": "code",
   "execution_count": 2,
   "metadata": {},
   "outputs": [],
   "source": [
    "keyword = '제품'\n",
    "page = 1"
   ]
  },
  {
   "cell_type": "code",
   "execution_count": 3,
   "metadata": {},
   "outputs": [
    {
     "data": {
      "text/plain": [
       "<Response [200]>"
      ]
     },
     "execution_count": 3,
     "metadata": {},
     "output_type": "execute_result"
    }
   ],
   "source": [
    "headers = {\n",
    "    'cookie': \"{당신의 쿠키값}\"\n",
    "    'user-agent': 'Mozilla/5.0 (Windows NT 10.0; Win64; x64) AppleWebKit/537.36 (KHTML, like Gecko) Chrome/98.0.4758.102 Safari/537.36'\n",
    "}\n",
    "params= {\n",
    "    'crid': '35GBR5DEJNI47',\n",
    "    'i': 'beauty-intl-ship',\n",
    "    'k':keyword,\n",
    "    'page': page,\n",
    "    'qid': '1645080939',\n",
    "    'ref': 'sr_pg_{page}'.format(page=page),\n",
    "    'sprefix': '%EC%A0%B6%2Cbeauty-intl-ship%2C211'\n",
    "}\n",
    "res = requests.get('https://www.amazon.com/-/ko/s',params=params, headers=headers)\n",
    "res"
   ]
  },
  {
   "cell_type": "raw",
   "metadata": {},
   "source": [
    "res.text"
   ]
  },
  {
   "cell_type": "code",
   "execution_count": 5,
   "metadata": {},
   "outputs": [],
   "source": [
    "root = html.fromstring(res.text)"
   ]
  },
  {
   "cell_type": "markdown",
   "metadata": {},
   "source": [
    "#### 상품 url"
   ]
  },
  {
   "cell_type": "code",
   "execution_count": 7,
   "metadata": {},
   "outputs": [
    {
     "data": {
      "text/plain": [
       "['/-/ko/gp/slredirect/picassoRedirect.html/ref=pa_sp_atf_beauty-intl-ship_sr_pg1_1?ie=UTF8&adId=A0688269WKVXUNFEQITO&url=%2Fdp%2FB07NF1BJBF%2Fref%3Dsr_1_1_sspa%3Fcrid%3D35GBR5DEJNI47%26keywords%3Dproducts%26qid%3D1645144300%26s%3Dbeauty-intl-ship%26sprefix%3D%2525EC%2525A0%2525B6%25252Cbeauty-intl-ship%25252C211%26sr%3D1-1-spons%26psc%3D1&qualifier=1645144300&id=7459500674509534&widgetName=sp_atf',\n",
       " '/-/ko/gp/slredirect/picassoRedirect.html/ref=pa_sp_atf_beauty-intl-ship_sr_pg1_1?ie=UTF8&adId=A042060225VCL4NB66E2E&url=%2Fdp%2FB01M16HU3I%2Fref%3Dsr_1_2_sspa%3Fcrid%3D35GBR5DEJNI47%26keywords%3Dproducts%26qid%3D1645144300%26s%3Dbeauty-intl-ship%26sprefix%3D%2525EC%2525A0%2525B6%25252Cbeauty-intl-ship%25252C211%26sr%3D1-2-spons%26psc%3D1%26smid%3DA1VISG9KJDF2XY&qualifier=1645144300&id=7459500674509534&widgetName=sp_atf',\n",
       " '/-/ko/gp/slredirect/picassoRedirect.html/ref=pa_sp_atf_beauty-intl-ship_sr_pg1_1?ie=UTF8&adId=A0688581IMRAZL7CE28Y&url=%2Fdp%2FB07NDYQJ7B%2Fref%3Dsr_1_3_sspa%3Fcrid%3D35GBR5DEJNI47%26keywords%3Dproducts%26qid%3D1645144300%26s%3Dbeauty-intl-ship%26sprefix%3D%2525EC%2525A0%2525B6%25252Cbeauty-intl-ship%25252C211%26sr%3D1-3-spons%26psc%3D1&qualifier=1645144300&id=7459500674509534&widgetName=sp_atf',\n",
       " '/-/ko/dp/B001AO0WCG/ref=sr_1_4?crid=35GBR5DEJNI47&keywords=products&qid=1645144300&s=beauty-intl-ship&sprefix=%25EC%25A0%25B6%252Cbeauty-intl-ship%252C211&sr=1-4',\n",
       " '/-/ko/dp/B008XKC5NY/ref=sr_1_5?crid=35GBR5DEJNI47&keywords=products&qid=1645144300&s=beauty-intl-ship&sprefix=%25EC%25A0%25B6%252Cbeauty-intl-ship%252C211&sr=1-5']"
      ]
     },
     "execution_count": 7,
     "metadata": {},
     "output_type": "execute_result"
    }
   ],
   "source": [
    "urls = root.xpath('//span[@data-component-type=\"s-product-image\" ]/a/@href')\n",
    "urls[:5]"
   ]
  },
  {
   "cell_type": "markdown",
   "metadata": {},
   "source": [
    "### 상품 이름"
   ]
  },
  {
   "cell_type": "code",
   "execution_count": 12,
   "metadata": {},
   "outputs": [
    {
     "data": {
      "text/plain": [
       "['Moroccan Gold Series 볼류마이징 모이스처 마스크 - 딥 컨디셔닝 및 볼류마이징 아르간 오일 헤어 마스크, 케라틴 함유, 239.6g(8.4온스)',\n",
       " 'Moroccan Gold Series 트리트먼트 마스크 – 딥 하이드레이팅 아르간 오일 헤어 마스크 건조하고 손상된 염색 및 컬리 모발용 케라틴 함유 - 황산염 무첨가 천연 헤어 리페어 트리트먼트, 239.6g (8.5온스)',\n",
       " 'Moroccan Gold Series 리브인 헤어 마스크 - 케라틴이 풍부한 아르간 오일 헤어 마스크 - 곱슬머리, 부스스하거나 손상된 모발용 영양 및 부드럽게 엉킴을 풀어주는 리브인 컨디셔너 스프레이, 119g(4.3온스)',\n",
       " '모로칸오일 트리트먼트 오일',\n",
       " \"It's a 10 Haircare Miracle Leave-In 제품, 4 fl. oz (4 Fl Oz (1팩))\"]"
      ]
     },
     "execution_count": 12,
     "metadata": {},
     "output_type": "execute_result"
    }
   ],
   "source": [
    "names = [i.text_content().strip() for i in root.xpath('//span[contains(@class, \"a-size-base-plus\")]')]\n",
    "names[:5]"
   ]
  },
  {
   "cell_type": "code",
   "execution_count": 17,
   "metadata": {},
   "outputs": [
    {
     "data": {
      "text/plain": [
       "['39.00', '37.95', '27.00', '44.00', '14.80']"
      ]
     },
     "execution_count": 17,
     "metadata": {},
     "output_type": "execute_result"
    }
   ],
   "source": [
    "prices = [ i[0] + '.' +i[1] for i in zip(root.xpath('//span[@class=\"a-price-whole\"]/text()'),root.xpath('//span[@class=\"a-price-fraction\"]/text()'))]\n",
    "prices[:5]"
   ]
  },
  {
   "cell_type": "code",
   "execution_count": null,
   "metadata": {},
   "outputs": [],
   "source": []
  }
 ],
 "metadata": {
  "kernelspec": {
   "display_name": "Python 3",
   "language": "python",
   "name": "python3"
  },
  "language_info": {
   "codemirror_mode": {
    "name": "ipython",
    "version": 3
   },
   "file_extension": ".py",
   "mimetype": "text/x-python",
   "name": "python",
   "nbconvert_exporter": "python",
   "pygments_lexer": "ipython3",
   "version": "3.7.6"
  }
 },
 "nbformat": 4,
 "nbformat_minor": 4
}
