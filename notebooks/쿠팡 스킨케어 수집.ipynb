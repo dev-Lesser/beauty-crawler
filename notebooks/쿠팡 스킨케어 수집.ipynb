{
 "cells": [
  {
   "cell_type": "code",
   "execution_count": 1,
   "metadata": {},
   "outputs": [],
   "source": [
    "import requests\n",
    "from lxml import html"
   ]
  },
  {
   "cell_type": "code",
   "execution_count": 2,
   "metadata": {},
   "outputs": [],
   "source": [
    "url = 'https://www.coupang.com/np/categories/176530' # 스킨케어 아이디\n",
    "headers={\n",
    "    'user-agent': 'Mozilla/5.0 (Windows NT 10.0; Win64; x64) AppleWebKit/537.36 (KHTML, like Gecko) Chrome/98.0.4758.102 Safari/537.36'\n",
    "}\n",
    "params = {\n",
    "    'page':1\n",
    "}"
   ]
  },
  {
   "cell_type": "code",
   "execution_count": 3,
   "metadata": {},
   "outputs": [],
   "source": [
    "res = requests.get(url, params=params, headers=headers)"
   ]
  },
  {
   "cell_type": "code",
   "execution_count": 4,
   "metadata": {},
   "outputs": [
    {
     "data": {
      "text/plain": [
       "<Response [200]>"
      ]
     },
     "execution_count": 4,
     "metadata": {},
     "output_type": "execute_result"
    }
   ],
   "source": [
    "res"
   ]
  },
  {
   "cell_type": "code",
   "execution_count": 5,
   "metadata": {},
   "outputs": [],
   "source": [
    "root = html.fromstring(res.text)"
   ]
  },
  {
   "cell_type": "markdown",
   "metadata": {},
   "source": [
    "### 이미지"
   ]
  },
  {
   "cell_type": "code",
   "execution_count": 6,
   "metadata": {},
   "outputs": [
    {
     "data": {
      "text/plain": [
       "['//thumbnail8.coupangcdn.com/thumbnails/remote/230x230ex/image/retail/images/7875788933839697-82b97d8b-4efb-49a4-be43-afd53680d3ff.jpg',\n",
       " '//thumbnail8.coupangcdn.com/thumbnails/remote/230x230ex/image/retail/images/11993362133531298-fe4793c4-45e3-48c2-9c18-6894dad18b66.jpg',\n",
       " '//thumbnail10.coupangcdn.com/thumbnails/remote/230x230ex/image/retail/images/169145867216633-c8a316af-ec02-4b11-baab-65ab4f101be9.jpg',\n",
       " '//thumbnail7.coupangcdn.com/thumbnails/remote/230x230ex/image/product/image/vendoritem/2019/07/01/4399050496/eac79d6a-5d51-41fa-b7be-11e01e77aacd.jpg',\n",
       " '//thumbnail10.coupangcdn.com/thumbnails/remote/230x230ex/image/vendor_inventory/6943/3648bb41dae761a65d6b98722de6a1a56c5caea7d18a15eeaafd82387a74.jpg',\n",
       " '//thumbnail9.coupangcdn.com/thumbnails/remote/230x230ex/image/retail/images/7908900088744567-4f721bf5-14c8-486e-aa74-aaf4319ba348.png',\n",
       " '//thumbnail10.coupangcdn.com/thumbnails/remote/230x230ex/image/rs_quotation_api/y9gkg7hy/951e5c86a64643b2949e9f4c6c89b814.jpg',\n",
       " '//thumbnail6.coupangcdn.com/thumbnails/remote/230x230ex/image/retail/images/4059172963886-d434b937-b2f4-4ffb-b044-8c6f510dfa92.jpg',\n",
       " '//thumbnail6.coupangcdn.com/thumbnails/remote/230x230ex/image/retail/images/69564855891833-9b46674c-0710-47b2-868f-9134cf142ee4.jpg',\n",
       " '//thumbnail8.coupangcdn.com/thumbnails/remote/230x230ex/image/retail/images/10815917439848228-b3f89da5-babe-4f31-9b7f-818ce36f6f8e.jpg',\n",
       " '//thumbnail7.coupangcdn.com/thumbnails/remote/230x230ex/image/retail/images/1368640798681843-d9dddb13-d500-4f94-bcd3-8ae7ae826d8e.jpg',\n",
       " '//thumbnail8.coupangcdn.com/thumbnails/remote/230x230ex/image/product/image/vendoritem/2019/07/05/3075080345/cee9a6dc-99b6-4a05-b89e-01d8a53a3a96.jpg',\n",
       " '//thumbnail7.coupangcdn.com/thumbnails/remote/230x230ex/image/retail/images/76970791304843-4c2c831c-a980-4a8d-9f7b-f11189809e27.jpg',\n",
       " '//thumbnail7.coupangcdn.com/thumbnails/remote/230x230ex/image/retail/images/10816274433670844-da67ccd1-7d9e-4c60-8f16-3c5e80367597.jpg',\n",
       " '//thumbnail10.coupangcdn.com/thumbnails/remote/230x230ex/image/retail/images/2020/05/06/12/8/2477ab43-b47b-40bb-bc18-eb85c70cdb32.jpg',\n",
       " '//thumbnail9.coupangcdn.com/thumbnails/remote/230x230ex/image/retail/images/14009976647178718-b0aba19d-c7ea-4126-8f0a-8fac1da4861e.jpg',\n",
       " '//thumbnail7.coupangcdn.com/thumbnails/remote/230x230ex/image/rs_quotation_api/dsi4gffx/04e3320b7cff45e68733abfb847c8c05.jpg',\n",
       " '//thumbnail7.coupangcdn.com/thumbnails/remote/230x230ex/image/retail/images/1368445133157854-58b508eb-2a63-45a6-a103-29cef68dec53.jpg',\n",
       " '//thumbnail7.coupangcdn.com/thumbnails/remote/230x230ex/image/retail/images/14469002047896520-f516976e-5c97-456f-8bf5-2163e2c307ae.png',\n",
       " '//thumbnail8.coupangcdn.com/thumbnails/remote/230x230ex/image/retail/images/1282682824362896-31155359-8f01-47f4-813f-23227e25a4cb.jpg',\n",
       " '//thumbnail6.coupangcdn.com/thumbnails/remote/230x230ex/image/retail/images/2021/04/27/20/9/24c2b822-14bd-4482-a77b-ff60331fba7f.jpg',\n",
       " '//thumbnail8.coupangcdn.com/thumbnails/remote/230x230ex/image/retail/images/1123708824300595-2a1c7e0c-3fd5-4081-ac20-919516946485.jpg',\n",
       " '//thumbnail8.coupangcdn.com/thumbnails/remote/230x230ex/image/vendor_inventory/9078/9ef44c50a9528d5535186a5ef7a5bef67ad51166acb8b0c91e76532544ae.jpg',\n",
       " '//thumbnail6.coupangcdn.com/thumbnails/remote/230x230ex/image/retail/images/8367949176676275-73e6dd62-1a66-4682-8e57-115f15df9894.png',\n",
       " '//thumbnail8.coupangcdn.com/thumbnails/remote/230x230ex/image/retail/images/2018/05/15/18/0/3704f91c-6fd0-49b3-8526-5e7dc97def5c.jpg',\n",
       " '//thumbnail10.coupangcdn.com/thumbnails/remote/230x230ex/image/retail/images/294055405676535-1af6a26b-5180-460d-b93e-db56e35b5c20.jpg',\n",
       " '//thumbnail8.coupangcdn.com/thumbnails/remote/230x230ex/image/vendor_inventory/fe1f/b5cf654d0c22fb4989d38650681db8e6a104a07444c74e2eaed26a0c301f.jpg',\n",
       " '//thumbnail6.coupangcdn.com/thumbnails/remote/230x230ex/image/retail/images/10818043615607027-2c322c40-6b88-48a4-ab5a-7431a5810d6e.jpg',\n",
       " '//thumbnail7.coupangcdn.com/thumbnails/remote/230x230ex/image/retail/images/2020/01/06/17/5/17bf37b8-bd9a-480c-bf83-78670af39ec3.jpg',\n",
       " '//thumbnail9.coupangcdn.com/thumbnails/remote/230x230ex/image/retail/images/2016/07/26/18/5/bda054cd-a2a1-49b0-b4dc-0c76a1ae4b3d.jpg',\n",
       " '//thumbnail6.coupangcdn.com/thumbnails/remote/230x230ex/image/retail/images/919608150182382-42cba0f6-2621-4290-b016-db027ad58828.jpg',\n",
       " '//thumbnail7.coupangcdn.com/thumbnails/remote/230x230ex/image/product/image/vendoritem/2019/07/05/3075080355/647fe3e6-e8bc-42dc-9b4d-0fd48fdaca4b.jpg',\n",
       " '//thumbnail7.coupangcdn.com/thumbnails/remote/230x230ex/image/retail/images/1372130916136-ea77f33c-bc2f-448a-bf92-edda0a8d3dd7.jpg',\n",
       " '//thumbnail9.coupangcdn.com/thumbnails/remote/230x230ex/image/retail/images/65850618011899-8f480985-5482-43fd-8f97-795a012a9b49.jpg',\n",
       " '//thumbnail7.coupangcdn.com/thumbnails/remote/230x230ex/image/retail/images/1359138109557720-ae4d254e-df55-4610-83b6-59c20d0eef62.jpg',\n",
       " '//thumbnail6.coupangcdn.com/thumbnails/remote/230x230ex/image/retail/images/2020/04/06/20/0/094bda8a-ce1b-44e0-ab7c-af1e0dcd28a9.jpg',\n",
       " '//thumbnail6.coupangcdn.com/thumbnails/remote/230x230ex/image/retail/images/532402460541110-69117b46-bde5-4b90-b133-8c1609b65197.jpg',\n",
       " '//thumbnail7.coupangcdn.com/thumbnails/remote/230x230ex/image/retail/images/2020/04/24/19/0/9b9d6f62-76e0-473a-9c7c-7a91c5aecb60.jpg',\n",
       " '//thumbnail7.coupangcdn.com/thumbnails/remote/230x230ex/image/retail/images/2021/10/27/11/2/cfb0eebe-995c-4e2a-90c2-fbda60f094ab.jpg',\n",
       " '//thumbnail8.coupangcdn.com/thumbnails/remote/230x230ex/image/retail/images/15440082772389013-d64eeea5-3a54-4cdb-a896-0400c71fb4a6.jpg',\n",
       " '//thumbnail7.coupangcdn.com/thumbnails/remote/230x230ex/image/retail/images/2021/02/25/16/4/34c7c4c6-b185-433d-98bd-9ed578c9af10.jpg',\n",
       " '//thumbnail8.coupangcdn.com/thumbnails/remote/230x230ex/image/retail/images/711371774559683-d7014b1a-233b-4249-86b4-a86cca49cc60.jpg',\n",
       " '//thumbnail6.coupangcdn.com/thumbnails/remote/230x230ex/image/product/image/vendoritem/2019/02/19/3125488109/06316503-924c-47e8-9447-c32d1889bb3d.jpg',\n",
       " '//thumbnail6.coupangcdn.com/thumbnails/remote/230x230ex/image/retail/images/500528089238351-3278e39d-7a4f-45f5-aef2-1c6d34a80c7d.jpg',\n",
       " '//thumbnail6.coupangcdn.com/thumbnails/remote/230x230ex/image/retail/images/66690770177277-3125d857-59b2-43cb-8a29-fd9dd972c772.jpg',\n",
       " '//thumbnail9.coupangcdn.com/thumbnails/remote/230x230ex/image/retail/images/2020/07/30/19/7/71ebb20d-d157-4fd4-a09d-32567be95516.jpg',\n",
       " '//thumbnail6.coupangcdn.com/thumbnails/remote/230x230ex/image/retail/images/348286720871451-24cf8f2b-cdba-4959-bbe3-d6c5b1678d47.jpg',\n",
       " '//thumbnail6.coupangcdn.com/thumbnails/remote/230x230ex/image/retail/images/17428984751400-a0956043-720f-4a3d-978d-cad9a736fc99.jpg',\n",
       " '//thumbnail10.coupangcdn.com/thumbnails/remote/230x230ex/image/retail/images/6381948949527-d66c0609-0eaa-441d-a553-5eac3db861e7.jpg',\n",
       " '//thumbnail6.coupangcdn.com/thumbnails/remote/230x230ex/image/retail/images/2020/03/26/15/4/f2ae4699-268a-4e6d-9a2c-5b5c3bb2145a.jpg',\n",
       " '//thumbnail7.coupangcdn.com/thumbnails/remote/230x230ex/image/vendor_inventory/6e3c/058776f8cea009f32f47143d44947902d875cf30128e9eac7c244e0b336f.jpg',\n",
       " '//thumbnail10.coupangcdn.com/thumbnails/remote/230x230ex/image/retail/images/2020/06/02/14/4/2276fcc7-8c0d-4230-b3d2-4d016daa90ae.jpg',\n",
       " '//thumbnail6.coupangcdn.com/thumbnails/remote/230x230ex/image/retail/images/328844115204860-7903f01b-4cd5-4846-b582-3e3d819dca06.jpg',\n",
       " '//thumbnail6.coupangcdn.com/thumbnails/remote/230x230ex/image/retail/images/244274929408796-61dd0009-20a7-40f0-a024-a0ba15de19c7.jpg',\n",
       " '//thumbnail8.coupangcdn.com/thumbnails/remote/230x230ex/image/retail/images/147858023187767-8063659b-3301-4a2a-abe0-19562d446734.jpg',\n",
       " '//thumbnail8.coupangcdn.com/thumbnails/remote/230x230ex/image/retail/images/522300667884259-0cab42c6-3bfb-4e1a-8f29-0fb357a930f9.jpg',\n",
       " '//thumbnail7.coupangcdn.com/thumbnails/remote/230x230ex/image/product/image/vendoritem/2018/02/19/3535287565/f5bb21cb-22a7-4383-91ca-ad2e6a92750d.jpg',\n",
       " '//thumbnail7.coupangcdn.com/thumbnails/remote/230x230ex/image/retail/images/234580193416283-c2c169de-afbc-4b02-a91c-3d8c7cf74fa8.jpg',\n",
       " '//thumbnail8.coupangcdn.com/thumbnails/remote/230x230ex/image/vendor_inventory/fff1/448fb21715b807e515c3d4a5652bf5d3f3ef4485d2031564f21f4e81a43b.jpg',\n",
       " '//thumbnail10.coupangcdn.com/thumbnails/remote/230x230ex/image/retail/images/512859415094833-c5d23c02-0a34-4f80-934a-45c9b39029f4.jpg']"
      ]
     },
     "execution_count": 6,
     "metadata": {},
     "output_type": "execute_result"
    }
   ],
   "source": [
    "root.xpath('//dl[@class=\"baby-product-wrap\"]/dt/img/@src')"
   ]
  },
  {
   "cell_type": "code",
   "execution_count": 7,
   "metadata": {},
   "outputs": [
    {
     "data": {
      "text/plain": [
       "['닥터지 레드 블레미쉬 시카 수딩 크림, 50ml, 2개',\n",
       " '센텔리안24 시즌 6 더 마데카 크림, 1개, 45ml',\n",
       " '닥터지 그린 마일드 업 선 플러스 SPF50+ PA++++, 35ml, 1개',\n",
       " '코멧 하이드로콜로이드 스팟패치 원형, 120매입, 1개',\n",
       " '가히 멀티밤, 9g, 1개',\n",
       " '메디힐 더블 카밍 워터 마스크 10p +히알루 모이스트 에센스 마스크 10p +펩타 리프팅 앰플 마스크 10p, 1세트',\n",
       " '이프너리 리즈턴 콜라겐 멀티밤 10g, 2개',\n",
       " '라운드랩 독도 토너, 500ml, 1개',\n",
       " '이니스프리 블랙티 유스 인핸싱 앰플 대용량 세트, 1개, 50ml',\n",
       " '미팩토리 3단 돼지코팩, 10개입, 1개',\n",
       " '라운드랩 독도 토너 200ml + 로션 200ml, 1세트',\n",
       " '은율 내츄럴 알로에 마스크팩, 1개입, 50개',\n",
       " '토니모리 알로에 99프로 촉촉수딩젤, 250ml, 3개',\n",
       " 'AHC 프라이빗 리얼 아이크림 포 페이스, 30ml, 2개',\n",
       " '이지덤 뷰티 스팟패치, 42개입, 3개',\n",
       " '소본 그린시카 더마 리페어 크림, 40ml, 1개',\n",
       " '이니스프리 더 그린티 씨드 크림, 1개, 50ml',\n",
       " '닥터지 레드 블레미쉬 클리어 수딩 토너, 300ml, 1개',\n",
       " '마일드랩 데일리 진정 수분크림, 80ml, 1개',\n",
       " '달바 화이트 트러플 퍼스트 스프레이 세럼 100ml 2개 + 약산성 젤 클렌저 15ml, 1세트',\n",
       " '이니스프리 그린티밸런싱 스킨케어 화장품 2종 세트 EX, 1세트',\n",
       " '이니스프리 그린티 씨드 에센스인로션, 1개, 100ml',\n",
       " '1+1 KAHI 가히밤 가희 김고은 주름케어 멀티밤 스틱 9g, 상세페이지 참조',\n",
       " 'AHC 캡처 콜라겐 크림, 50g, 1개',\n",
       " '미샤 비폴렌 리뉴 앰플러, 40ml, 1개',\n",
       " '더랩바이블랑두 올리고 히알루론산 5000 토너, 300ml, 1개',\n",
       " '가히 멀티밤, 2개, 9g',\n",
       " '은율 내츄럴 마스크팩 알로에 10p + 콜라겐 10p + 진주 10p + 히알루론 10p + 아보카도 10p, 50매, 1세트',\n",
       " '린제이 프리미엄 티트리 모델링팩 1kg, 1개, 1개입',\n",
       " '토니모리 더 촉촉 그린티 수분 2종 세트, 1세트',\n",
       " '센텔리안24 마데카 멜라 캡처 스틱, 10g, 1개',\n",
       " '은율 내츄럴 콜라겐 마스크팩, 1개입, 50개',\n",
       " '이니스프리 더 그린티 씨드 세럼, 80ml, 1개',\n",
       " '셀리맥스 더 리얼 노니 에너지 앰플, 30ml, 1개',\n",
       " 'AHC 바이탈 골든 콜라겐 스페셜 기초화장품 스킨케어 5종 세트+쇼핑백, 1세트',\n",
       " '은율 데일리 케어 콜라겐 미스트, 100ml, 3개',\n",
       " '본트리 베리 에센스 선블럭 SPF50+ PA++++, 50ml, 2개',\n",
       " '토리든 다이브인 저분자 히알루론산 크림, 80ml, 1개',\n",
       " '웰라쥬 리얼 히알루로닉 블루 앰플, 100ml, 1개',\n",
       " '눅스 윌 프로디쥬스 멀티 드라이 오일, 100ml, 1개',\n",
       " '토리든 다이브인 저분자 히알루론산 토너, 300ml, 1개',\n",
       " '올리세 퓨어워터 미스트, 400ml, 1개',\n",
       " '미팩토리 1단 돼지코팩, 10개입, 1개',\n",
       " '셀퓨전씨 레이저 썬스크린 100 SPF50+ PA+++, 50ml, 1개',\n",
       " '토니모리 원더 아쿠아 수분크림, 300ml, 1개',\n",
       " '토리든 다이브인 저분자 히알루론산 세럼, 100ml, 1개',\n",
       " '메디힐 티트리바이옴 블레미쉬 시카 앰플, 50ml, 1개',\n",
       " '에스엔피 골드 콜라겐 아이 패치, 60개입, 1개',\n",
       " '마녀공장 비피다 바이옴 앰플 토너, 500ml, 1개',\n",
       " '라라폴리 알로에베라 수딩젤, 300ml, 5개',\n",
       " 'kahi 가희주름케어멀티밤 9g, 1개',\n",
       " '참존 골든 컴플렉스 마유 크림, 70ml, 1개',\n",
       " '피부의정석 바른손패치 스팟패치, 100개입, 1개',\n",
       " '닥터지 레드 블레미쉬 시카 S 크림, 50ml, 1개',\n",
       " '미샤 비타씨플러스 잡티씨 탄력앰플 20ml + 15ml 세트, 1세트',\n",
       " '에센허브 티트리 100 오일, 1개, 10ml',\n",
       " '넥스케어 블레미쉬 클리어 커버 이지필 스팟패치, 114개입, 1개',\n",
       " '메디힐 더블 카밍 워터 마스크 5p + 히알루 모이스트 에센스 마스크 5p + 펩타 리프팅 앰플 마스크 5p, 1세트',\n",
       " '홍여진의 벨루아체 멀티밤 주름 미백 링클 멀티밤, 10g, 4개',\n",
       " '메디힐 히알루 모이스트 에센스 마스크 20ml, 1개입, 15개']"
      ]
     },
     "execution_count": 7,
     "metadata": {},
     "output_type": "execute_result"
    }
   ],
   "source": [
    "[i.text_content().strip() for i in root.xpath('//dl[@class=\"baby-product-wrap\"]/dd/div[@class=\"name\"]')]"
   ]
  },
  {
   "cell_type": "markdown",
   "metadata": {},
   "source": [
    "#### 가격 세일가"
   ]
  },
  {
   "cell_type": "code",
   "execution_count": 8,
   "metadata": {},
   "outputs": [
    {
     "data": {
      "text/plain": [
       "['24,780',\n",
       " '12,730',\n",
       " '11,990',\n",
       " '8,670',\n",
       " '28,900',\n",
       " '17,910',\n",
       " '25,110',\n",
       " '15,690',\n",
       " '32,260',\n",
       " '14,720',\n",
       " '19,540',\n",
       " '13,050',\n",
       " '10,610',\n",
       " '13,600',\n",
       " '15,570',\n",
       " '23,400',\n",
       " '13,400',\n",
       " '17,490',\n",
       " '14,800',\n",
       " '29,000',\n",
       " '17,970',\n",
       " '12,630',\n",
       " '47,000',\n",
       " '10,170',\n",
       " '14,900',\n",
       " '16,410',\n",
       " '59,100',\n",
       " '13,950',\n",
       " '14,000',\n",
       " '14,760',\n",
       " '10,490',\n",
       " '13,050',\n",
       " '16,100',\n",
       " '14,210',\n",
       " '33,400',\n",
       " '11,800',\n",
       " '11,760',\n",
       " '14,230',\n",
       " '21,000',\n",
       " '23,720',\n",
       " '14,230',\n",
       " '7,900',\n",
       " '8,820',\n",
       " '14,660',\n",
       " '7,910',\n",
       " '32,500',\n",
       " '16,370',\n",
       " '10,800',\n",
       " '19,350',\n",
       " '11,900',\n",
       " '24,450',\n",
       " '8,700',\n",
       " '6,550',\n",
       " '17,030',\n",
       " '21,300',\n",
       " '13,000',\n",
       " '9,500',\n",
       " '10,900',\n",
       " '39,900',\n",
       " '10,900']"
      ]
     },
     "execution_count": 8,
     "metadata": {},
     "output_type": "execute_result"
    }
   ],
   "source": [
    "root.xpath('//strong[@class=\"price-value\"]/text()')"
   ]
  },
  {
   "cell_type": "code",
   "execution_count": null,
   "metadata": {},
   "outputs": [],
   "source": []
  }
 ],
 "metadata": {
  "kernelspec": {
   "display_name": "Python 3",
   "language": "python",
   "name": "python3"
  },
  "language_info": {
   "codemirror_mode": {
    "name": "ipython",
    "version": 3
   },
   "file_extension": ".py",
   "mimetype": "text/x-python",
   "name": "python",
   "nbconvert_exporter": "python",
   "pygments_lexer": "ipython3",
   "version": "3.7.6"
  }
 },
 "nbformat": 4,
 "nbformat_minor": 4
}
