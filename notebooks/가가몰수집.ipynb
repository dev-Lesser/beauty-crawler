{
 "cells": [
  {
   "cell_type": "code",
   "execution_count": 1,
   "metadata": {},
   "outputs": [],
   "source": [
    "import requests\n",
    "from lxml import html"
   ]
  },
  {
   "cell_type": "code",
   "execution_count": 2,
   "metadata": {},
   "outputs": [],
   "source": [
    "url = 'https://www.gagamall.net/shop/shopdetail.html?branduid=116774&xcode=031&mcode=001&scode=&special=2&GfDT=aG93Uw%3D%3D'"
   ]
  },
  {
   "cell_type": "code",
   "execution_count": 3,
   "metadata": {},
   "outputs": [
    {
     "data": {
      "text/plain": [
       "<Response [200]>"
      ]
     },
     "execution_count": 3,
     "metadata": {},
     "output_type": "execute_result"
    }
   ],
   "source": [
    "res = requests.get(url)\n",
    "res"
   ]
  },
  {
   "cell_type": "code",
   "execution_count": 4,
   "metadata": {},
   "outputs": [],
   "source": [
    "root = html.fromstring(res.text)"
   ]
  },
  {
   "cell_type": "code",
   "execution_count": 5,
   "metadata": {},
   "outputs": [
    {
     "data": {
      "text/plain": [
       "[<Element tbody at 0x1607c502a98>]"
      ]
     },
     "execution_count": 5,
     "metadata": {},
     "output_type": "execute_result"
    }
   ],
   "source": [
    "root.xpath('//tbody[@id=\"review_list\"]')"
   ]
  },
  {
   "cell_type": "code",
   "execution_count": 6,
   "metadata": {},
   "outputs": [
    {
     "data": {
      "text/plain": [
       "<Response [200]>"
      ]
     },
     "execution_count": 6,
     "metadata": {},
     "output_type": "execute_result"
    }
   ],
   "source": [
    "url = 'https://www.gagamall.net/shop/review.list.ajax.html'\n",
    "data = {\n",
    "    'branduid': 116774,\n",
    "    'page': 1 # pagination\n",
    "}\n",
    "res = requests.post(url, data=data)\n",
    "res.encoding=\"UTF-8\"\n",
    "res"
   ]
  },
  {
   "cell_type": "markdown",
   "metadata": {},
   "source": [
    "### 리뷰들"
   ]
  },
  {
   "cell_type": "code",
   "execution_count": 7,
   "metadata": {},
   "outputs": [
    {
     "data": {
      "text/plain": [
       "['선물로 드렸는데 반응 좋으네요',\n",
       " '아주마음에듭니다.재구매의사있응',\n",
       " '늘 쓰는 제품이예요.. 사춘기 우리 아이들도 이것만\\n찾아요..저는 나이트...',\n",
       " '늘 쓰는 제품이예요',\n",
       " '예전에는 알로에제품밖에 안썼는데 한동안뜸하다다시구매했는데 여전히좋아...',\n",
       " '계속 사용하는 제품이라 언제나 만족합니다',\n",
       " '늘  쓰던거라 재구매했어요',\n",
       " '수분젤로서는 딱이네요. 부드럽고 좋아요. 특히 밤에 바르는게 괜찮아요',\n",
       " '원래쓰는 제품인데, 저령하게 잘 샀어요.',\n",
       " '아직은 잘 모르겠어요']"
      ]
     },
     "execution_count": 7,
     "metadata": {},
     "output_type": "execute_result"
    }
   ],
   "source": [
    "root = html.fromstring(res.text)\n",
    "[i.strip() for i in root.xpath('//tr[@class=\"nbg\"]/td/div/a/text()')]"
   ]
  },
  {
   "cell_type": "raw",
   "metadata": {},
   "source": [
    "### 평점\n",
    "조금 더러움"
   ]
  },
  {
   "cell_type": "code",
   "execution_count": null,
   "metadata": {},
   "outputs": [],
   "source": []
  }
 ],
 "metadata": {
  "kernelspec": {
   "display_name": "Python 3",
   "language": "python",
   "name": "python3"
  },
  "language_info": {
   "codemirror_mode": {
    "name": "ipython",
    "version": 3
   },
   "file_extension": ".py",
   "mimetype": "text/x-python",
   "name": "python",
   "nbconvert_exporter": "python",
   "pygments_lexer": "ipython3",
   "version": "3.7.6"
  }
 },
 "nbformat": 4,
 "nbformat_minor": 4
}
