{
 "cells": [
  {
   "cell_type": "code",
   "execution_count": 1,
   "metadata": {},
   "outputs": [],
   "source": [
    "import requests\n",
    "from lxml import html"
   ]
  },
  {
   "cell_type": "code",
   "execution_count": 3,
   "metadata": {},
   "outputs": [],
   "source": [
    "params = {\n",
    "    'max':16,\n",
    "    'page':1,\n",
    "    'orderby':'p.regdate',\n",
    "    'cid':'000000000000000',\n",
    "    'depth':0\n",
    "}\n",
    "url = 'https://www.naturerepublic.com/shop/goods_list.php'"
   ]
  },
  {
   "cell_type": "code",
   "execution_count": 4,
   "metadata": {},
   "outputs": [
    {
     "data": {
      "text/plain": [
       "<Response [200]>"
      ]
     },
     "execution_count": 4,
     "metadata": {},
     "output_type": "execute_result"
    }
   ],
   "source": [
    "res = requests.get(url, params=params)\n",
    "res"
   ]
  },
  {
   "cell_type": "code",
   "execution_count": 6,
   "metadata": {},
   "outputs": [],
   "source": [
    "root = html.fromstring(res.text)"
   ]
  },
  {
   "cell_type": "markdown",
   "metadata": {},
   "source": [
    "#### 상품 url"
   ]
  },
  {
   "cell_type": "code",
   "execution_count": 15,
   "metadata": {},
   "outputs": [
    {
     "data": {
      "text/plain": [
       "['/shop/goods_view.php?id=0000013366',\n",
       " '/shop/goods_view.php?id=0000013362',\n",
       " '/shop/goods_view.php?id=0000013304',\n",
       " '/shop/goods_view.php?id=0000013208',\n",
       " '/shop/goods_view.php?id=0000013362',\n",
       " '/shop/goods_view.php?id=0000013208',\n",
       " '/shop/goods_view.php?id=0000013304',\n",
       " '/shop/goods_view.php?id=0000013366',\n",
       " '/shop/goods_view.php?id=0000013736',\n",
       " '/shop/goods_view.php?id=0000013733',\n",
       " '/shop/goods_view.php?id=0000013732',\n",
       " '/shop/goods_view.php?id=0000013731',\n",
       " '/shop/goods_view.php?id=0000013725',\n",
       " '/shop/goods_view.php?id=0000013645',\n",
       " '/shop/goods_view.php?id=0000013644',\n",
       " '/shop/goods_view.php?id=0000013631',\n",
       " '/shop/goods_view.php?id=0000013629',\n",
       " '/shop/goods_view.php?id=0000013628',\n",
       " '/shop/goods_view.php?id=0000013624',\n",
       " '/shop/goods_view.php?id=0000013623']"
      ]
     },
     "execution_count": 15,
     "metadata": {},
     "output_type": "execute_result"
    }
   ],
   "source": [
    "root.xpath('//li[@id=\"prod_top\"]/a[1]/@href')"
   ]
  },
  {
   "cell_type": "code",
   "execution_count": 17,
   "metadata": {},
   "outputs": [
    {
     "data": {
      "text/plain": [
       "['//image2018.naturerepublic.com/data/nature_data/images/product/00/00/01/37/43/m_0000013743.gif',\n",
       " '//image2018.naturerepublic.com/data/nature_data/images/product/00/00/01/37/42/m_0000013742.gif',\n",
       " '//image2018.naturerepublic.com/data/nature_data/images/product/00/00/01/37/41/m_0000013741.gif',\n",
       " '//image2018.naturerepublic.com/data/nature_data/images/product/00/00/01/37/40/m_0000013740.gif',\n",
       " '//image2018.naturerepublic.com/data/nature_data/images/event/944/event_banner_944.gif',\n",
       " '//image2018.naturerepublic.com/data/nature_data/images/event/942/event_banner_942.gif',\n",
       " '//image2018.naturerepublic.com/data/nature_data/images/event/941/event_banner_941.gif',\n",
       " '//image2018.naturerepublic.com/data/nature_data/images/event/940/event_banner_940.gif',\n",
       " '//image2018.naturerepublic.com/data/nature_data/images/product/00/00/01/37/41/m_0000013741.gif',\n",
       " '//image2018.naturerepublic.com/data/nature_data/images/product/00/00/01/35/56/m_0000013556.gif',\n",
       " '//image2018.naturerepublic.com/data/nature_data/images/product/00/00/01/34/52/m_0000013452.gif',\n",
       " '//image2018.naturerepublic.com/data/nature_data/images/product/00/00/01/21/55/m_0000012155.gif',\n",
       " '//image2018.naturerepublic.com/data/nature_data/images/product/00/00/01/35/77/m_0000013577.gif',\n",
       " '//image2018.naturerepublic.com/data/nature_data/images/product/00/00/01/24/11/m_0000012411.gif',\n",
       " '//image2018.naturerepublic.com/data/nature_data/images/product/00/00/01/37/04/m_0000013704.gif',\n",
       " '//image2018.naturerepublic.com/data/nature_data/images/product/00/00/01/36/85/m_0000013685.gif',\n",
       " '//image2018.naturerepublic.com/data/nature_data/images/product/00/00/01/28/33/m_0000012833.gif',\n",
       " '//image2018.naturerepublic.com/data/nature_data/images/product/00/00/01/29/27/m_0000012927.gif',\n",
       " '//image2018.naturerepublic.com/data/nature_data/images/product/00/00/01/33/66/ms_0000013366.gif',\n",
       " '//image2018.naturerepublic.com/data/nature_data/images/product/00/00/01/33/62/ms_0000013362.gif',\n",
       " '//image2018.naturerepublic.com/data/nature_data/images/product/00/00/01/33/04/ms_0000013304.gif',\n",
       " '//image2018.naturerepublic.com/data/nature_data/images/product/00/00/01/32/08/ms_0000013208.gif',\n",
       " '//image2018.naturerepublic.com/data/nature_data/images/product/00/00/01/33/62/ms_0000013362.gif',\n",
       " '//image2018.naturerepublic.com/data/nature_data/images/product/00/00/01/32/08/ms_0000013208.gif',\n",
       " '//image2018.naturerepublic.com/data/nature_data/images/product/00/00/01/33/04/ms_0000013304.gif',\n",
       " '//image2018.naturerepublic.com/data/nature_data/images/product/00/00/01/33/66/ms_0000013366.gif',\n",
       " '//image2018.naturerepublic.com/data/nature_data/images/product/00/00/01/37/36/ms_0000013736.gif',\n",
       " '//image2018.naturerepublic.com/data/nature_data/images/product/00/00/01/37/33/ms_0000013733.gif',\n",
       " '//image2018.naturerepublic.com/data/nature_data/images/product/00/00/01/37/32/ms_0000013732.gif',\n",
       " '//image2018.naturerepublic.com/data/nature_data/images/product/00/00/01/37/31/ms_0000013731.gif',\n",
       " '//image2018.naturerepublic.com/data/nature_data/images/product/00/00/01/37/25/ms_0000013725.gif',\n",
       " '//image2018.naturerepublic.com/data/nature_data/images/product/00/00/01/36/45/ms_0000013645.gif',\n",
       " '//image2018.naturerepublic.com/data/nature_data/images/product/00/00/01/36/44/ms_0000013644.gif',\n",
       " '//image2018.naturerepublic.com/data/nature_data/images/product/00/00/01/36/31/ms_0000013631.gif',\n",
       " '//image2018.naturerepublic.com/data/nature_data/images/product/00/00/01/36/29/ms_0000013629.gif',\n",
       " '//image2018.naturerepublic.com/data/nature_data/images/product/00/00/01/36/28/ms_0000013628.gif',\n",
       " '//image2018.naturerepublic.com/data/nature_data/images/product/00/00/01/36/24/ms_0000013624.gif',\n",
       " '//image2018.naturerepublic.com/data/nature_data/images/product/00/00/01/36/23/ms_0000013623.gif']"
      ]
     },
     "execution_count": 17,
     "metadata": {},
     "output_type": "execute_result"
    }
   ],
   "source": [
    "root.xpath('//div[@class=\"img_box\"]/img/@src')"
   ]
  },
  {
   "cell_type": "markdown",
   "metadata": {},
   "source": [
    "#### 상품 이름"
   ]
  },
  {
   "cell_type": "code",
   "execution_count": 20,
   "metadata": {},
   "outputs": [
    {
     "data": {
      "text/plain": [
       "['비타페어C 토너',\n",
       " '굿스킨 앰플 (10종 택1)',\n",
       " '콜라겐 드림 50 올인원 래디언스 톤 업 크림 SPF35 PA++',\n",
       " '진생 로얄 실크 워터리 크림',\n",
       " '굿스킨 앰플 (10종 택1)',\n",
       " '진생 로얄 실크 워터리 크림',\n",
       " '콜라겐 드림 50 올인원 래디언스 톤 업 크림 SPF35 PA++',\n",
       " '비타페어C 토너',\n",
       " '진생 로얄 실크 링클 앰플밤',\n",
       " '로터스 프레쉬 크림',\n",
       " '로터스 프레쉬 에멀젼',\n",
       " '로터스 프레쉬 토너',\n",
       " '링클비타에이 스팟 프로',\n",
       " '인텐스 멀티 앰플밤 콜라겐',\n",
       " '인텐스 멀티 앰플밤 비타 C',\n",
       " '인텐스 멀티 앰플밤 시카',\n",
       " '인텐스 멀티 앰플밤 프로폴리스',\n",
       " '인텐스 멀티 앰플밤 히알론',\n",
       " '진생 로얄 실크 아이크림 with 워터리 크림 기획세트',\n",
       " '진생 로얄 실크 워터리 크림 with 아이크림 기획세트']"
      ]
     },
     "execution_count": 20,
     "metadata": {},
     "output_type": "execute_result"
    }
   ],
   "source": [
    "[i.text_content().strip() for i in root.xpath('//dt[@class=\"producr_fixel_name\"]')]"
   ]
  },
  {
   "cell_type": "markdown",
   "metadata": {},
   "source": [
    "### 가격"
   ]
  },
  {
   "cell_type": "code",
   "execution_count": 22,
   "metadata": {},
   "outputs": [
    {
     "data": {
      "text/plain": [
       "['￦16,000  ￦5,900',\n",
       " '￦31,000  ￦15,500',\n",
       " '￦22,000  ￦13,200',\n",
       " '￦25,000  ￦12,500',\n",
       " '￦24,000  ￦14,400',\n",
       " '￦24,900  ￦10,900',\n",
       " '￦3,500',\n",
       " '￦18,900  ￦6,600',\n",
       " '￦25,000  ￦16,500',\n",
       " '￦18,000  ￦12,600',\n",
       " '￦18,900￦15,120',\n",
       " '￦23,000￦5,500',\n",
       " '￦26,900￦13,450',\n",
       " '￦132,000￦66,000',\n",
       " '￦23,000￦5,500',\n",
       " '￦132,000￦66,000',\n",
       " '￦26,900￦13,450',\n",
       " '￦18,900￦15,120',\n",
       " '￦41,000￦28,700',\n",
       " '￦27,000￦5,900',\n",
       " '￦25,000￦5,500',\n",
       " '￦25,000￦5,500',\n",
       " '￦48,000￦33,600',\n",
       " '￦38,000￦26,600',\n",
       " '￦38,000￦26,600',\n",
       " '￦38,000￦26,600',\n",
       " '￦38,000￦26,600',\n",
       " '￦38,000￦26,600',\n",
       " '￦176,000￦88,000',\n",
       " '￦176,000￦88,000']"
      ]
     },
     "execution_count": 22,
     "metadata": {},
     "output_type": "execute_result"
    }
   ],
   "source": [
    "[i.text_content().strip() for i in root.xpath('//dd[@class=\"price\"]')]"
   ]
  },
  {
   "cell_type": "code",
   "execution_count": null,
   "metadata": {},
   "outputs": [],
   "source": []
  }
 ],
 "metadata": {
  "kernelspec": {
   "display_name": "Python 3",
   "language": "python",
   "name": "python3"
  },
  "language_info": {
   "codemirror_mode": {
    "name": "ipython",
    "version": 3
   },
   "file_extension": ".py",
   "mimetype": "text/x-python",
   "name": "python",
   "nbconvert_exporter": "python",
   "pygments_lexer": "ipython3",
   "version": "3.7.6"
  }
 },
 "nbformat": 4,
 "nbformat_minor": 4
}
