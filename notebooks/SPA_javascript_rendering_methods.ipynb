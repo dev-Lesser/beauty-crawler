{
 "cells": [
  {
   "cell_type": "code",
   "execution_count": 1,
   "metadata": {},
   "outputs": [],
   "source": [
    "from requests_html import AsyncHTMLSession\n",
    "import nest_asyncio\n",
    "\n",
    "asession = AsyncHTMLSession()\n",
    "nest_asyncio.apply(asession.loop)"
   ]
  },
  {
   "cell_type": "code",
   "execution_count": 5,
   "metadata": {},
   "outputs": [],
   "source": [
    "url = 'https://search-travel.interpark.com/search/스페인'\n",
    "async def get_data():\n",
    "    site = await asession.get(url)\n",
    "    await site.html.arender(keep_page=True)\n",
    "    return site\n",
    "\n",
    "r = asession.run(get_data)"
   ]
  },
  {
   "cell_type": "code",
   "execution_count": 6,
   "metadata": {},
   "outputs": [
    {
     "data": {
      "text/plain": [
       "[<Response [200]>]"
      ]
     },
     "execution_count": 6,
     "metadata": {},
     "output_type": "execute_result"
    }
   ],
   "source": [
    "r"
   ]
  },
  {
   "cell_type": "code",
   "execution_count": 7,
   "metadata": {},
   "outputs": [
    {
     "name": "stdout",
     "output_type": "stream",
     "text": [
      "['//tourimage.interpark.com/Product/Hotel/Thumbnail/00161/20160718/1000004576/1000004576_01_b288x208.jpg', '//tourimage.interpark.com/product/tour/00161/A30/280/A3012701_7_910.jpg', '//tourimage.interpark.com/product/tour/00161/A30/280/A3013334_4_517.jpg', '//tourimage.interpark.com/product/tour/00161/A30/280/A3018257_7_950.jpg', '//tourimage.interpark.com/product/tour/00161/A30/280/A3013967_10_787.jpg', '//tourimage.interpark.com/product/tour/00161/B30/280/B3011413_5_190.JPG', '//tourimage.interpark.com/Product/Hotel/Thumbnail/00161/20160718/1000004576/1000004576_01_b288x208.jpg', '//tourimage.interpark.com/Product/Hotel/Thumbnail/00263/20141001/1000027566/1000027566_01_b288x208.jpg', '//tourimage.interpark.com/Product/Hotel/Thumbnail/00263/20141001/1000069003/1000069003_01_b288x208.jpg', '//tourimage.interpark.com/Product/Hotel/Thumbnail/00263/20150114/1000027596/1000027596_02_b288x208.jpg', '//openimage.interpark.com/tourpark/tour/common/defaultImg/default288x196.gif', '//imgp.interpark.com/tr/fit/tr/fit/goods/GOODS/goodsGOODS_20220119180903_0.png', '//imgp.interpark.com/tr/activity/TC100/15621477654431', '//imgp.interpark.com/tr/activity/TC100/GOODS/GW0000109278_36eda29f-3d60-4e2a-9b42-c24db1ab0d65', '//imgp.interpark.com/tr/fit/tr/fit/goods/GOODS/goodsGOODS_20220119124411_0.png', '//imgp.interpark.com/tr/fit/tr/fit/goods/GOODS/goodsGOODS_20220119164030_0.png', '//tourimage.interpark.com/Spot/157/13239/201512/6358657306494964572.jpg', '//tourimage.interpark.com/Spot/183/15509/201603/6359270997818765561.jpg', '//tourimage.interpark.com/Spot/157/13097/201512/6358605543126864411.jpg', '//tourimage.interpark.com/Spot/197/16796/201512/6358536537305082161.jpg', '//tourimage.interpark.com/Spot/157/13280/201606/6360132871900440233.jpg', '//tourimage.interpark.com/Discovery/201603/6359495628751819370.jpg', '//tourimage.interpark.com/Discovery/201603/6359451566429205090.jpg', '//tourimage.interpark.com/Discovery/201603/6359424209416513440.jpg', '//tourimage.interpark.com/Discovery/201509/6357747347535060490.jpg', '//tourimage.interpark.com/Discovery/201409/6354630742852777810.jpg', '//tourimage.interpark.com/product/tour/00161/A30/280/A3012701_7_910.jpg', '//tourimage.interpark.com/product/tour/00161/A30/280/A3012701_7_910.jpg', '//tourimage.interpark.com/product/tour/00161/A30/280/A3013334_4_517.jpg', '//tourimage.interpark.com/product/tour/00161/A30/280/A3012701_7_910.jpg', '//tourimage.interpark.com/product/tour/00161/A30/280/A3012701_7_910.jpg', '//tourimage.interpark.com/Sites/Tour/Event/List/637775740396714521.jpg', '//tourimage.interpark.com/Sites/Tour/Event/List/637616978177053967.jpg', '//tourimage.interpark.com/Sites/Tour/Event/List/637616979254427170.jpg', '//tourimage.interpark.com/Sites/Tour/Event/List/636918869665913576.jpg', '//tourimage.interpark.com/Spot/157/12909/202109/637683542739083669.jpg', '//tourimage.interpark.com/Spot/157/25166/201703/636257756513405535.jpg', '//tourimage.interpark.com/Spot/157/12909/201510/635803327901490740.jpg', '//tourimage.interpark.com/Spot/157/12909/201611/636155806184522916.JPG', '//tourimage.interpark.com/Spot/208/24584/201504/635657443922192916.jpg', '//tourimage.interpark.com/product/tour/00161/A20/500/A2013541_1_773.jpg', '//tourimage.interpark.com/product/tour/00161/A30/500/A3014101_13_827.jpg', '//tourimage.interpark.com/product/tour/00161/A30/500/A3014575_2_760.jpg', '//tourimage.interpark.com/product/tour/00161/A30/500/A3017559_30_587.jpg', '//tourimage.interpark.com/product/tour/00161/A30/500/A3018051_1_280.jpg', '//tourimage.interpark.com/product/tour/00161/A30/500/A3018283_1_463.jpg', '//tourimage.interpark.com/product/tour/00161/A30/500/A3018290_17_353.jpg', '//tourimage.interpark.com/product/tour/00161/A30/500/A3018297_1_440.jpg', '//tourimage.interpark.com/product/tour/00161/AAA/500/AAA12299_11_623.jpg', '//tourimage.interpark.com/product/tour/00161/AAA/500/AAA13005_1_240.jpg', '//tourimage.interpark.com/product/tour/00161/AAA/500/AAA13007_1_363.jpg', '//tourimage.interpark.com/product/tour/00161/AAA/500/AAA13106_1_230.jpg', '//trimg.interpark.com/r/c570388/r/i/0/93/ab/F01_GI0002001632_93ab5c68f7b48c973a6aa51c964a40ac.jpg', '//trimg.interpark.com/r/c570388/r/i/1/ff/fa/F01_GI0002001821_fffa367ac0a332ba8d153f61ea32614d.jpg', '//trimg.interpark.com/r/c570388/r/i/0/bd/f2/F01_GI0002002002_bdf2987701d435df21104c551eae533d.jpeg', '//trimg.interpark.com/r/c570388/r/i/0/b7/c2/F01_GIM000041950_b7c2aaccf7b95991a39dc13b2f6bdbae.jpg', '//trimg.interpark.com/r/c570388/r/i/0/79/4e/F01_GIM005002958_794e7f9d7fce32ff2b352e0d3745c328.JPG', '//trimg.interpark.com/r/c570388/Product/Housing/Hotel/07000108/07000108_01.jpg', '//trimg.interpark.com/r/c570388/r/i/1/ec/cc/F01_GIM009000079_eccc7887893f966718b565442ca7541e.jpeg', '//trimg.interpark.com/r/c570388/Product/Housing/Condo/09000158/09000158_01.jpg', '//trimg.interpark.com/r/c570388/Product/Housing/Hotel/15000466/15000466_09.jpg', '//trimg.interpark.com/r/c570388/r/i/1/e3/a2/F01_GIM016000439_e3a24ab819fb8b08cd7c1fe4e9534724.jpg', '//trimg.interpark.com/r/c570388/Product/Housing/Hotel/18000033/18000033_01.jpg', '//trimg.interpark.com/r/c570388/Product/Housing/Hotel/18000491/18000491_01.jpg'] ['엑스포 호텔 바르셀로나', '[스페인/포르투갈 9일] 실속여행+가우디투어+6대특식_QR', '[스페인/포르투갈/모로코 12일]1급호텔 3박UP+10대특식+가우디투어', '[스페인일주 9일]바르셀로나 1DAY+3대 뷰포인트', '[스페인 포르투갈 12일] 항공이동1회+포르투갈2DAY', '[맞춤 견적]스페인/포르투갈 자유 맞춤 여행 문의', '엑스포 호텔 바르셀로나', '바르셀로 말라가', '멜리아 세비야', 'Eurostars Málaga Hotel', '카수알 빌바오 구레아', '[현지Live 랜선투어] 권승완+성예은 가이드의 스페인 바르셀로나', '스페인 바르셀로나 민속촌(포블레 에스파뇰) 입장권', '프로모션: 유레일 스페인 모바일 패스', '[현지Live 랜선투어] 김호영 가이드의 스페인 세비야', '[현지Live 랜선투어] 이혜원 가이드의 스페인 세고비아'] ['82,808', '1,490,000', '2,190,000', '1,590,000', '1,990,000', '10,000', '82,606', '231,840', '113,232', '148,176', '104,801', '16,900', '12,806', '15,652', '16,900', '16,900']\n"
     ]
    }
   ],
   "source": [
    "images = r[0].html.xpath('//div[@class=\"boxProduct\"]/div[@class=\"productImage\"]/a/img/@src')\n",
    "titles = r[0].html.xpath('//div[@class=\"productInfo\"]/div/div/a[@class=\"infoLink\"]/h5[@class=\"infoTitle\"]/text()')\n",
    "prices = r[0].html.xpath('//div[@class=\"productInfo\"]/div/div/div[@class=\"infoPrice\"]/p[@class=\"final\"]/strong/text()')\n",
    "print(images, titles, prices)"
   ]
  },
  {
   "cell_type": "code",
   "execution_count": null,
   "metadata": {},
   "outputs": [],
   "source": []
  }
 ],
 "metadata": {
  "kernelspec": {
   "display_name": "Python 3",
   "language": "python",
   "name": "python3"
  },
  "language_info": {
   "codemirror_mode": {
    "name": "ipython",
    "version": 3
   },
   "file_extension": ".py",
   "mimetype": "text/x-python",
   "name": "python",
   "nbconvert_exporter": "python",
   "pygments_lexer": "ipython3",
   "version": "3.7.6"
  }
 },
 "nbformat": 4,
 "nbformat_minor": 4
}
