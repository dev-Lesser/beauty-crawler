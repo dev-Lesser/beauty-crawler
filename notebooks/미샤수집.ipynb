{
 "cells": [
  {
   "cell_type": "code",
   "execution_count": 1,
   "metadata": {},
   "outputs": [],
   "source": [
    "import requests\n",
    "from lxml import html"
   ]
  },
  {
   "cell_type": "code",
   "execution_count": 2,
   "metadata": {},
   "outputs": [],
   "source": [
    "url = 'https://www.mynunc.com/product/goods/get-goods-list-json'"
   ]
  },
  {
   "cell_type": "code",
   "execution_count": 4,
   "metadata": {},
   "outputs": [
    {
     "data": {
      "text/plain": [
       "<Response [200]>"
      ]
     },
     "execution_count": 4,
     "metadata": {},
     "output_type": "execute_result"
    }
   ],
   "source": [
    "data = {\n",
    "    'brandRadio': 'brndCnt',\n",
    "    'page': 1,\n",
    "    'brndId': 1,\n",
    "    'brndIdList': 1,\n",
    "    'goodsTotalCount': 130,\n",
    "    'categoryList': 20000101, # 스킨케어\n",
    "    'searchOrd': 'SORT_REG_DT',\n",
    "    'searchOrd2': 'best',\n",
    "    'searchType': 'goods'\n",
    "}\n",
    "res = requests.post(url,data=data)\n",
    "res"
   ]
  },
  {
   "cell_type": "code",
   "execution_count": 8,
   "metadata": {},
   "outputs": [],
   "source": [
    "results = res.json()['list']"
   ]
  },
  {
   "cell_type": "markdown",
   "metadata": {},
   "source": [
    "#### 이미지"
   ]
  },
  {
   "cell_type": "code",
   "execution_count": 9,
   "metadata": {},
   "outputs": [
    {
     "data": {
      "text/plain": [
       "['ext/images/goods/top/21/10/12/05/BO00112629/0000249392.jpg',\n",
       " 'ext/images/goods/top/21/09/14/05/BO00112485/0000246953.jpg',\n",
       " 'ext/images/goods/top/21/09/14/06/BO00112484/0000246974.jpg',\n",
       " 'ext/images/goods/top/21/10/28/04/BO00112433/0000250400.jpg',\n",
       " 'ext/images/goods/top/21/09/09/05/BO00112475/0000246560.jpg',\n",
       " 'ext/images/goods/top/21/09/10/02/BO00112474/0000246638.jpg',\n",
       " 'ext/images/goods/top/21/12/15/04/BO00112473/0000254096.jpg',\n",
       " 'ext/images/goods/top/21/09/02/01/BO00112469/0000245863.jpg',\n",
       " 'ext/images/goods/top/21/09/02/01/BO00112468/0000245857.jpg',\n",
       " 'ext/images/goods/top/21/08/06/11/BO00112435/0000243267.jpg',\n",
       " 'ext/images/goods/top/21/08/06/02/BO00112434/0000243281.jpg',\n",
       " 'ext/images/goods/top/21/08/06/11/BO00112431/0000243249.jpg',\n",
       " 'ext/images/goods/top/21/07/30/05/BO00112446/0000242718.jpg',\n",
       " 'ext/images/goods/top/21/07/30/05/BO00112445/0000242720.jpg',\n",
       " 'ext/images/goods/top/21/07/23/10/BO00112448/0000241993.jpg',\n",
       " 'ext/images/goods/top/21/07/22/03/BO00112432/0000241936.jpg',\n",
       " 'ext/images/goods/top/21/07/09/09/BO00112430/0000240347.jpg',\n",
       " 'ext/images/goods/top/21/07/09/05/BO00112428/0000240535.jpg',\n",
       " 'ext/images/goods/top/21/07/09/05/BO00112427/0000240534.jpg',\n",
       " 'ext/images/goods/top/21/07/09/05/BO00112426/0000240533.jpg']"
      ]
     },
     "execution_count": 9,
     "metadata": {},
     "output_type": "execute_result"
    }
   ],
   "source": [
    "[i.get('fileUrl') for i in results]"
   ]
  },
  {
   "cell_type": "markdown",
   "metadata": {},
   "source": [
    "### 상품 이름"
   ]
  },
  {
   "cell_type": "code",
   "execution_count": 10,
   "metadata": {},
   "outputs": [
    {
     "data": {
      "text/plain": [
       "['아텔로 콜라겐500 파워 풀럼핑 앰플 50ml',\n",
       " '타임 레볼루션 이모탈 유스 크림 2X 50ml',\n",
       " '타임 레볼루션 이모탈 유스 에센스 2X 50ml',\n",
       " 'NEW 개똥쑥 진정 스팟 팩 50매',\n",
       " '타임 레볼루션 프라임스템100 아이크림 25ml',\n",
       " '타임 레볼루션 프라임스템100 크림 50ml',\n",
       " '타임 레볼루션 프라임스템100 리프팅 세럼 50ml',\n",
       " '타임 레볼루션 더 퍼스트 에센스 로션 5X 130ml',\n",
       " '타임 레볼루션 더 퍼스트 에센스 인리치드 150ml',\n",
       " 'NEW 개똥쑥 진정 케어 2종 기획세트',\n",
       " 'NEW 개똥쑥 진정 에센스 150ml',\n",
       " 'NEW 개똥쑥 웅녀의 비밀 세트',\n",
       " 'NEW 수퍼아쿠아 울트라 히알론 3종 기획세트',\n",
       " 'NEW 수퍼아쿠아 울트라 히알론 2종 기획세트',\n",
       " 'NEW 수퍼아쿠아 울트라 히알론 젤크림 특별 기획세트 (리미티드)',\n",
       " 'NEW 개똥쑥 팩 폼 클렌저 150ml',\n",
       " 'NEW 개똥쑥 웅녀의 탄생 에센스 기획세트 (리미티드)',\n",
       " 'NEW 개똥쑥 진정 크림 50ml ',\n",
       " 'NEW 개똥쑥 진정 앰플 50ml',\n",
       " 'NEW 개똥쑥 진정 에센스 [미스트 타입] 120ml']"
      ]
     },
     "execution_count": 10,
     "metadata": {},
     "output_type": "execute_result"
    }
   ],
   "source": [
    "[i.get('goodsNm') for i in results]"
   ]
  },
  {
   "cell_type": "markdown",
   "metadata": {},
   "source": [
    "#### 정상가 & 세일가"
   ]
  },
  {
   "cell_type": "code",
   "execution_count": 11,
   "metadata": {},
   "outputs": [
    {
     "data": {
      "text/plain": [
       "[(38000, 30400),\n",
       " (52000, 41600),\n",
       " (46000, 36800),\n",
       " (28000, 19600),\n",
       " (42000, 33600),\n",
       " (55000, 44000),\n",
       " (52000, 41600),\n",
       " (41000, 32800),\n",
       " (43000, 34400),\n",
       " (78000, 54600),\n",
       " (39000, 27300),\n",
       " (75000, 52500),\n",
       " (74000, 51800),\n",
       " (46000, 32200),\n",
       " (28000, 28000),\n",
       " (15000, 10500),\n",
       " (39000, 27300),\n",
       " (39000, 27300),\n",
       " (39000, 27300),\n",
       " (34000, 23800)]"
      ]
     },
     "execution_count": 11,
     "metadata": {},
     "output_type": "execute_result"
    }
   ],
   "source": [
    "[(i.get('rgprc'), i.get('lastSellPrc')) for i in results]"
   ]
  },
  {
   "cell_type": "code",
   "execution_count": null,
   "metadata": {},
   "outputs": [],
   "source": []
  }
 ],
 "metadata": {
  "kernelspec": {
   "display_name": "Python 3",
   "language": "python",
   "name": "python3"
  },
  "language_info": {
   "codemirror_mode": {
    "name": "ipython",
    "version": 3
   },
   "file_extension": ".py",
   "mimetype": "text/x-python",
   "name": "python",
   "nbconvert_exporter": "python",
   "pygments_lexer": "ipython3",
   "version": "3.7.6"
  }
 },
 "nbformat": 4,
 "nbformat_minor": 4
}
