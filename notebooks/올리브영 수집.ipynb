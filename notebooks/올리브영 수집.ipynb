{
 "cells": [
  {
   "cell_type": "code",
   "execution_count": 1,
   "metadata": {},
   "outputs": [],
   "source": [
    "import requests\n",
    "from lxml import html"
   ]
  },
  {
   "cell_type": "code",
   "execution_count": 2,
   "metadata": {},
   "outputs": [],
   "source": [
    "# ### 예제\n",
    "# - 스킨/로션/올인원 카테고리\n",
    "\n",
    "# In[9]:\n",
    "\n",
    "\n",
    "page = 2\n",
    "url = 'https://www.oliveyoung.co.kr/store/display/getMCategoryList.do?dispCatNo=100000100010008&fltDispCatNo=&prdSort=01&pageIdx={page}&rowsPerPage=24&searchTypeSort=btn_thumb&plusButtonFlag=N&isLoginCnt=0&aShowCnt=0&bShowCnt=0&cShowCnt=0&trackingCd=Cat100000100010008_Small'.format(page=page)"
   ]
  },
  {
   "cell_type": "code",
   "execution_count": 3,
   "metadata": {},
   "outputs": [
    {
     "data": {
      "text/plain": [
       "<Response [200]>"
      ]
     },
     "execution_count": 3,
     "metadata": {},
     "output_type": "execute_result"
    }
   ],
   "source": [
    "res = requests.get(url)\n",
    "res"
   ]
  },
  {
   "cell_type": "code",
   "execution_count": 4,
   "metadata": {},
   "outputs": [
    {
     "data": {
      "text/plain": [
       "['A000000135930001',\n",
       " 'A000000159331001',\n",
       " 'A000000158910001',\n",
       " 'A000000161786001',\n",
       " 'A000000148544001',\n",
       " 'A000000113292001',\n",
       " 'A000000159182001',\n",
       " 'A000000157691001',\n",
       " 'A000000159783001',\n",
       " 'A000000143827001',\n",
       " 'A000000147524001',\n",
       " 'A000000151892001',\n",
       " 'A000000144910001',\n",
       " 'A000000131210001',\n",
       " 'A000000150722001',\n",
       " 'A000000144637001',\n",
       " 'A000000010474001',\n",
       " 'A000000154625001',\n",
       " 'A000000161355001',\n",
       " 'A000000155995001',\n",
       " 'A000000160744001',\n",
       " 'A000000160722001',\n",
       " 'A000000161506001',\n",
       " 'A000000129008001']"
      ]
     },
     "execution_count": 4,
     "metadata": {},
     "output_type": "execute_result"
    }
   ],
   "source": [
    "# 아래에서 사용할 goodsNo\n",
    "\n",
    "root= html.fromstring(res.text)\n",
    "item_number = root.xpath('//div[@class=\"prd_info \"]/../@criteo-goods')\n",
    "item_number"
   ]
  },
  {
   "cell_type": "code",
   "execution_count": 5,
   "metadata": {},
   "outputs": [],
   "source": [
    "url = 'https://www.oliveyoung.co.kr/store/goods/getGdasNewListJson.do'\n",
    "params = {\n",
    "    'goodsNo': item_number[0][:-3],#A000000161782001 뒤의 세자리는 빼줘야 함\n",
    "    'gdasSort': '02', # 최신순\n",
    "    'itemNo': 'all_search',\n",
    "    'pageIdx': 1, # pagination\n",
    "}\n",
    "headers = {\n",
    "    'X-Requested-With': 'XMLHttpRequest'\n",
    "}\n",
    "res = requests.get(url, params=params, headers=headers)\n",
    "results = res.json()"
   ]
  },
  {
   "cell_type": "code",
   "execution_count": 7,
   "metadata": {},
   "outputs": [
    {
     "data": {
      "text/plain": [
       "['닥터지 레드블레미쉬 클리어 수딩 토너 300ml 기획',\n",
       " '닥터지 레드블레미쉬 클리어 수딩 토너 300ml 기획',\n",
       " '닥터지 레드블레미쉬 클리어 수딩 토너 300ml 기획',\n",
       " '닥터지 레드블레미쉬 클리어 수딩 토너 300ml 기획',\n",
       " '닥터지 레드블레미쉬 클리어 수딩 토너 300ml 기획',\n",
       " '닥터지 레드블레미쉬 클리어 수딩 토너 300ml 기획',\n",
       " '닥터지 레드블레미쉬 클리어 수딩 토너 300ml 기획',\n",
       " '닥터지 레드블레미쉬 클리어 수딩 토너 300ml 기획',\n",
       " '닥터지 레드블레미쉬 클리어 수딩 토너 300ml 기획',\n",
       " '닥터지 레드블레미쉬 클리어 수딩 토너 300ml 기획']"
      ]
     },
     "execution_count": 7,
     "metadata": {},
     "output_type": "execute_result"
    }
   ],
   "source": [
    "[i.get('goodsNm') for i in results.get('gdasList')]"
   ]
  },
  {
   "cell_type": "code",
   "execution_count": 6,
   "metadata": {},
   "outputs": [
    {
     "data": {
      "text/plain": [
       "['1.구매이유\\r\\n두구두구두구 드디어 탑리뷰어가 되었네요! 탑리뷰어 첫번째 쿠폰으로 어떤 제품을 살까 엄청 고민하다가 저번에 어워즈 기획상품으로 샀던 닥터지 수딩크림이 너무 좋아서 닥터지 토너도 사용해보고 싶은 마음에 구매했어요!!\\r\\n\\r\\n\\r\\n*피부타입\\r\\n- 민감성 + 여드름성 피부\\r\\n- 얼굴에 붉은기 조금\\r\\n\\r\\n2. 장점\\r\\n- 워터 제형의 토너로 끈적이는 마무리감이 없어요!\\r\\n- 식물유래 AHA&BHA로 순하게 각질과 화이트헤드 정리를 할 수 있어요\\r\\n- 스킨팩으로 사용할 경우 피부 진정효과가 있더라구요\\r\\n- 그리고 닥터지 수딩크림이랑 같이 사용하면 완전 찰떡 궁합이에요 ㅠㅠ 닦토하고 수딩크림까지 바르고 자고 일어나면 얼굴이 퓨딩퓨딩해져요...\\r\\n\\r\\n3. 아쉬운 점\\r\\n- 세일하지 않을때 가격이!!...\\r\\n\\r\\n-&gt; 그래도 푸딩푸딩해지는 얼굴을 보면 재구매할 의사 있습니당 ㅎㅎ',\n",
       " '향이 자극없어좋아요 \\r\\n아들이 좋아하는 제품이예요\\r\\n순해서 좋아요',\n",
       " '모든 피부타입에 사용하기 좋고 끈적임 없이 수분감 좋아서 잘 사용하고 있어용',\n",
       " '설 명절에 내려갔는데 사촌 피부가 너무 깨끗한거에요ㅠㅠ진ㅁ자 처음에 들어오는데 다른 사람인줄 알았어요! 너무 관리를 잘했길래 뭐했냐고 물어보니깐 닥터지 토너랑 수딩크림 썼다고 해서 묻지도 따지지도 않고 바로 결제 했습니다... 진짜 아무리 유명해도 귓등으로 듣고 구매 안했었는데 이건 찐 후기라 바로 묻지도 따지지도 않고 샀어요! 토너는 물 제형이라 닦토로 사용하려고 했었습니다:-) 역시 유명한 만큼 증명해주더라구요,, 제 피부가 진짜 예민하고 여드름이 있는 피부인데 토너 써보니깐 토너가 너무 순하고 좋아요 ㅠㅠ 향도 알코올 냄새도 안나고 은은하고! 첫날에 토너-수딩크림 하고 자고 일어났는데 진짜 진정이 엄청 되어있더라고요 ㅠㅠ 사진 안 찍은게 한,, 진짜 사촌 덕분에 피부가 조금씩 변하는거 보고 인생의 선배릠이라고 생각합니다....진짜 제 주변에 여드름 복합성 피부는 닥터지 추천해줄거에요 ㅠㅠㅠㅠㅠ 그리고 월급 들어오면 닥터지 필링도 사보려고요 😎',\n",
       " '콧물 제형인줄 알앗는데 그냥 물같은 제형입니다 그래도 좋을것같아요!',\n",
       " '여드름 때문에 검색하다가 알게 된 닥터지 브랜드. 아예 닥터지 토너와 수딩크림으로 기초템을 바꾸고 사용했는데요 지금은 여드름이 많이 없어졌어요 자잘자잘하게 가끔 올라오는 여드름 빼면 깨끗해요 마스크 때문에 생긴 여드름이라 그런지 각질제거와 수분충전을 충분히 해야한다고 하더라고요 그래서 순한 제품으로다가 구해서 쓰려고 한 거였어요 근데 닥터지 제품 자체가 순한 느낌이 있어서 어떤 피부에도 다 쓸 수 있는 것 같고 저는 대체로 닦토로 토너를 썼는데요 듬뿍 써서 닦토+ 수분충전의 느낌으로 썼어요 이거만 써도 사실 당기는 느낌 없이 피부가 진정된다는 느낌이 있어요 아침 저녁으로 화장솜에 묻혀서 쓰고 있는데 전 아주 만족해요 그래서 아예 기초제품은 닥터지로 정착했어요 다른 제품 잘못 쓰면 피부가 따끔따끔하거나 붉게 올라오는데 얘는 그런게 없어서 넘 좋아요',\n",
       " '순하고 그냥 누구나 쓸 수 있음 좋음 닥터지 잘 사용하고 있음!',\n",
       " '남편 토너는 늘 이걸로 사줘요 \\r\\n용량대비 가격도 괜찮고 \\r\\n닥터지 같은 라인 수분크림을 너무 잘 써서요',\n",
       " '닥터지 블레미쉬라인은 다 뽀송뽀송 괜찮은 것 같아요. 같이 들어있던 솜도 자극없이 부드러워요!',\n",
       " '제가 완전 심각한 기름보유인이거든요 ㅠㅠ (거진 중동사람급 ㅠ) 그래서 얼굴에 뭘 바르더라도 두껍게 바르는건 극혐하고 무조건 가볍고 산뜻한 제형만 찾아서 바릅니다 ! 그러다가 토너가 필요했는데 토너도 무겁고 번들거리는건 딱 질색이라 가벼운 토너 찾고 있었는데 닥터지 레드블레미쉬 수딩크림을 먼저 경험해본 저는 토너도 같은 라인이니 분명 가볍겠지하고 바로 구매 했습니다 ㅋㅋㅋ 믿고 쓰는 닥터지 레드 블레미쉬 라인 !!! 제가 그토록 원하던 가볍고 산뜻한 토너가 여기 있습니다 !! 제형도 완전 물이에요 ㅠ 그래서 닦토하기에 너무 편하고 향도 무향이라 거리낌없이 부담없이 잘 사용하고 있습니다 ㅎㅎ 화장실에서 나오기 전에 닦토해주니 건조함도 덜하고 너무 너무 만족중이에요 ! 수딩크림이랑 같이 쓰니 효과는 2배고요 ! 강추합니다 !!']"
      ]
     },
     "execution_count": 6,
     "metadata": {},
     "output_type": "execute_result"
    }
   ],
   "source": [
    "[i.get('gdasCont') for i in results.get('gdasList')]"
   ]
  },
  {
   "cell_type": "code",
   "execution_count": null,
   "metadata": {},
   "outputs": [],
   "source": []
  }
 ],
 "metadata": {
  "kernelspec": {
   "display_name": "Python 3",
   "language": "python",
   "name": "python3"
  },
  "language_info": {
   "codemirror_mode": {
    "name": "ipython",
    "version": 3
   },
   "file_extension": ".py",
   "mimetype": "text/x-python",
   "name": "python",
   "nbconvert_exporter": "python",
   "pygments_lexer": "ipython3",
   "version": "3.7.6"
  }
 },
 "nbformat": 4,
 "nbformat_minor": 4
}
